{
 "cells": [
  {
   "cell_type": "code",
   "execution_count": null,
   "id": "4f4c00b8",
   "metadata": {},
   "outputs": [],
   "source": []
  },
  {
   "cell_type": "markdown",
   "id": "5de8c456",
   "metadata": {},
   "source": [
    "## Optional dependencies\n",
    "- pydantic은 필요에 따라 다음과 같은 선택적 종속성과 함께 제공됩니다.\n",
    "\n",
    "- email-validator — Support for email validation.\n",
    "- typing-extensions — Support use of Literal prior to Python 3.8.\n",
    "- python-dotenv — Support for dotenv file with settings.\n",
    "\n",
    "\n",
    "### 추가 설치 \n",
    "- # install email-validator\n",
    "pip install pydantic[email]\n",
    "- # install typing-extensions\n",
    "pip install pydantic[typing_extensions]\n",
    "- # install python-dotenv\n",
    "pip install pydantic[dotenv]\n",
    "- # install all dependencies\n",
    "pip install pydantic[email,typing_extensions,dotenv]"
   ]
  },
  {
   "cell_type": "markdown",
   "id": "fdbc0faa",
   "metadata": {},
   "source": [
    "# pydantic이란?\n",
    "\n",
    "- pydantic은 파이썬 타입 어노테이션을 사용해서 데이터 유효성 검사와 설정 관리를 하는 라이브러리다. \n",
    "- 런타임때 타입 힌트를 강제하고, 데이터가 유효하지 않을때 유저 친화적인 에러를 제공한다. \n",
    "- 즉, pydantic을 사용하여 데이터가 어때야 하는지 정의하고, 유효한지 확인 할 수 있다."
   ]
  },
  {
   "cell_type": "code",
   "execution_count": 1,
   "id": "19fa83e8",
   "metadata": {},
   "outputs": [],
   "source": [
    "import pydantic"
   ]
  },
  {
   "cell_type": "code",
   "execution_count": 2,
   "id": "4e2fd092",
   "metadata": {},
   "outputs": [
    {
     "data": {
      "text/plain": [
       "'2.4.2'"
      ]
     },
     "execution_count": 2,
     "metadata": {},
     "output_type": "execute_result"
    }
   ],
   "source": [
    "pydantic.__version__"
   ]
  },
  {
   "cell_type": "code",
   "execution_count": null,
   "id": "f38bfdf9",
   "metadata": {},
   "outputs": [],
   "source": []
  },
  {
   "cell_type": "code",
   "execution_count": null,
   "id": "a3f5af42",
   "metadata": {},
   "outputs": [],
   "source": []
  },
  {
   "cell_type": "code",
   "execution_count": null,
   "id": "b706594e",
   "metadata": {},
   "outputs": [],
   "source": []
  },
  {
   "cell_type": "markdown",
   "id": "5e4da1c1",
   "metadata": {},
   "source": [
    "# 1. 데이터 처리의 목적 "
   ]
  },
  {
   "cell_type": "markdown",
   "id": "015cf90d",
   "metadata": {},
   "source": [
    "## 1-1 사용목적 : 심플\n",
    "\n",
    "- BaseModel 클래스에서 상속된 클래스 내에서 데이터를 정의할 수 있습니다.\n",
    "\n",
    "- Pydantic 모델은 데이터를 수집하고 구문 분석하고 데이터에 정의된 필드의 제약 조건을 준수하는지 확인하는 구조입니다"
   ]
  },
  {
   "cell_type": "markdown",
   "id": "c30e999d",
   "metadata": {},
   "source": [
    "###  베이스 모델을 사용 "
   ]
  },
  {
   "cell_type": "code",
   "execution_count": 31,
   "id": "808b9c67",
   "metadata": {},
   "outputs": [],
   "source": [
    "from pydantic import BaseModel "
   ]
  },
  {
   "cell_type": "markdown",
   "id": "59fb2706",
   "metadata": {},
   "source": [
    "### 클래스 상속으로 처리 \n",
    "- 속성은 타입힌트로 지정 \n"
   ]
  },
  {
   "cell_type": "code",
   "execution_count": 32,
   "id": "f054f5bf",
   "metadata": {},
   "outputs": [],
   "source": [
    "\n",
    "class Model(BaseModel):     \n",
    "    a: int     \n",
    "    b: float     \n",
    "    c: str   \n"
   ]
  },
  {
   "cell_type": "code",
   "execution_count": null,
   "id": "2a325f59",
   "metadata": {},
   "outputs": [],
   "source": []
  },
  {
   "cell_type": "code",
   "execution_count": 34,
   "id": "df725ca1",
   "metadata": {},
   "outputs": [
    {
     "name": "stdout",
     "output_type": "stream",
     "text": [
      "__abstractmethods__, __annotations__, __class__, __class_getitem__, __class_vars__, __copy__, __deepcopy__, __delattr__, __dict__, __dir__, __doc__, __eq__, __fields__, __fields_set__, __format__, __ge__, __get_pydantic_core_schema__, __get_pydantic_json_schema__, __getattr__, __getattribute__, __getstate__, __gt__, __hash__, __init__, __init_subclass__, __iter__, __le__, __lt__, __module__, __ne__, __new__, __pretty__, __private_attributes__, __pydantic_complete__, __pydantic_core_schema__, __pydantic_custom_init__, __pydantic_decorators__, __pydantic_extra__, __pydantic_fields_set__, __pydantic_generic_metadata__, __pydantic_init_subclass__, __pydantic_parent_namespace__, __pydantic_post_init__, __pydantic_private__, __pydantic_root_model__, __pydantic_serializer__, __pydantic_validator__, __reduce__, __reduce_ex__, __repr__, __repr_args__, __repr_name__, __repr_str__, __rich_repr__, __setattr__, __setstate__, __signature__, __sizeof__, __slots__, __str__, __subclasshook__, __weakref__, _abc_impl, _calculate_keys, _copy_and_set_values, _get_value, _iter, construct, copy, dict, from_orm, json, model_computed_fields, model_config, model_construct, model_copy, model_dump, model_dump_json, model_extra, model_fields, model_fields_set, model_json_schema, model_parametrized_name, model_post_init, model_rebuild, model_validate, model_validate_json, model_validate_strings, parse_file, parse_obj, parse_raw, schema, schema_json, update_forward_refs, validate, "
     ]
    }
   ],
   "source": [
    "for i in dir(Model) :\n",
    "    print(i, end=\", \")"
   ]
  },
  {
   "cell_type": "markdown",
   "id": "23240c13",
   "metadata": {},
   "source": [
    "### 데이터를 만들고"
   ]
  },
  {
   "cell_type": "code",
   "execution_count": 35,
   "id": "2f160ef3",
   "metadata": {},
   "outputs": [],
   "source": [
    "data = dict(a=3, b=3.14, c=\"123\")"
   ]
  },
  {
   "cell_type": "markdown",
   "id": "72995818",
   "metadata": {},
   "source": [
    "### 객체를 생성한다.\n",
    "- 해당 속성만큼 데이터를 지정한다 "
   ]
  },
  {
   "cell_type": "code",
   "execution_count": 36,
   "id": "f2fcbd2c",
   "metadata": {},
   "outputs": [],
   "source": [
    "m = Model(**data)"
   ]
  },
  {
   "cell_type": "code",
   "execution_count": 37,
   "id": "66ec5135",
   "metadata": {},
   "outputs": [
    {
     "name": "stdout",
     "output_type": "stream",
     "text": [
      "__abstractmethods__, __annotations__, __class__, __class_getitem__, __class_vars__, __copy__, __deepcopy__, __delattr__, __dict__, __dir__, __doc__, __eq__, __fields__, __fields_set__, __format__, __ge__, __get_pydantic_core_schema__, __get_pydantic_json_schema__, __getattr__, __getattribute__, __getstate__, __gt__, __hash__, __init__, __init_subclass__, __iter__, __le__, __lt__, __module__, __ne__, __new__, __pretty__, __private_attributes__, __pydantic_complete__, __pydantic_core_schema__, __pydantic_custom_init__, __pydantic_decorators__, __pydantic_extra__, __pydantic_fields_set__, __pydantic_generic_metadata__, __pydantic_init_subclass__, __pydantic_parent_namespace__, __pydantic_post_init__, __pydantic_private__, __pydantic_root_model__, __pydantic_serializer__, __pydantic_validator__, __reduce__, __reduce_ex__, __repr__, __repr_args__, __repr_name__, __repr_str__, __rich_repr__, __setattr__, __setstate__, __signature__, __sizeof__, __slots__, __str__, __subclasshook__, __weakref__, _abc_impl, _calculate_keys, _copy_and_set_values, _get_value, _iter, a, b, c, construct, copy, dict, from_orm, json, model_computed_fields, model_config, model_construct, model_copy, model_dump, model_dump_json, model_extra, model_fields, model_fields_set, model_json_schema, model_parametrized_name, model_post_init, model_rebuild, model_validate, model_validate_json, model_validate_strings, parse_file, parse_obj, parse_raw, schema, schema_json, update_forward_refs, validate, "
     ]
    }
   ],
   "source": [
    "for i in dir(m) :\n",
    "    print(i, end=\", \")"
   ]
  },
  {
   "cell_type": "code",
   "execution_count": null,
   "id": "986c59ec",
   "metadata": {},
   "outputs": [],
   "source": []
  },
  {
   "cell_type": "markdown",
   "id": "7c696125",
   "metadata": {},
   "source": [
    "### 객체를 조회하는 방법\n",
    "\n",
    "- dict => model_dump로 벼경 "
   ]
  },
  {
   "cell_type": "code",
   "execution_count": 7,
   "id": "d767e4c6",
   "metadata": {},
   "outputs": [
    {
     "name": "stderr",
     "output_type": "stream",
     "text": [
      "/var/folders/h4/44486vyn1_xbs13g1z50l5m00000gn/T/ipykernel_74362/3126521417.py:1: PydanticDeprecatedSince20: The `dict` method is deprecated; use `model_dump` instead. Deprecated in Pydantic V2.0 to be removed in V3.0. See Pydantic V2 Migration Guide at https://errors.pydantic.dev/2.4/migration/\n",
      "  m.dict()\n"
     ]
    },
    {
     "data": {
      "text/plain": [
       "{'a': 3, 'b': 3.14, 'c': '123'}"
      ]
     },
     "execution_count": 7,
     "metadata": {},
     "output_type": "execute_result"
    }
   ],
   "source": [
    "m.dict()"
   ]
  },
  {
   "cell_type": "code",
   "execution_count": 8,
   "id": "a8852a8a",
   "metadata": {},
   "outputs": [
    {
     "data": {
      "text/plain": [
       "{'a': 3, 'b': 3.14, 'c': '123'}"
      ]
     },
     "execution_count": 8,
     "metadata": {},
     "output_type": "execute_result"
    }
   ],
   "source": [
    "m.model_dump()"
   ]
  },
  {
   "cell_type": "markdown",
   "id": "c62a7f82",
   "metadata": {},
   "source": [
    "### 내부의 속성 확인하기 "
   ]
  },
  {
   "cell_type": "code",
   "execution_count": 9,
   "id": "1c962407",
   "metadata": {},
   "outputs": [
    {
     "name": "stdout",
     "output_type": "stream",
     "text": [
      "construct, copy, dict, from_orm, json, model_computed_fields, model_config, model_construct, model_copy, model_dump, model_dump_json, model_extra, model_fields, model_fields_set, model_json_schema, model_parametrized_name, model_post_init, model_rebuild, model_validate, model_validate_json, model_validate_strings, parse_file, parse_obj, parse_raw, schema, schema_json, update_forward_refs, validate, "
     ]
    }
   ],
   "source": [
    "for i in dir(Model) : \n",
    "    print(i, end=\", \" ) if not i.startswith(\"_\") else _"
   ]
  },
  {
   "cell_type": "code",
   "execution_count": null,
   "id": "f7f8ae5c",
   "metadata": {},
   "outputs": [],
   "source": []
  },
  {
   "cell_type": "code",
   "execution_count": 11,
   "id": "2a45f8b1",
   "metadata": {},
   "outputs": [],
   "source": [
    "from typing import List, Optional\n",
    "from pydantic import BaseModel, Field\n",
    "class Foo(BaseModel):\n",
    "    count: int\n",
    "    size: Optional[float] = None\n",
    "        \n",
    "class Bar(BaseModel):\n",
    "    apple : str \n",
    "    banana : str = \"y\"\n",
    "        \n",
    "class Spam(BaseModel):\n",
    "    foo: Foo\n",
    "    bars: List[Bar]\n"
   ]
  },
  {
   "cell_type": "code",
   "execution_count": null,
   "id": "3547e0f2",
   "metadata": {},
   "outputs": [],
   "source": []
  },
  {
   "cell_type": "code",
   "execution_count": 12,
   "id": "560a9a2c",
   "metadata": {},
   "outputs": [],
   "source": [
    "m = Spam(foo={'count': 4}, bars=[{'apple': 'x1', 'banana' : \"y1\"}, {'apple': 'x2',}])"
   ]
  },
  {
   "cell_type": "code",
   "execution_count": 13,
   "id": "22788fae",
   "metadata": {},
   "outputs": [
    {
     "data": {
      "text/plain": [
       "{'foo': {'count': 4, 'size': None},\n",
       " 'bars': [{'apple': 'x1', 'banana': 'y1'}, {'apple': 'x2', 'banana': 'y'}]}"
      ]
     },
     "execution_count": 13,
     "metadata": {},
     "output_type": "execute_result"
    }
   ],
   "source": [
    "m.model_dump()"
   ]
  },
  {
   "cell_type": "code",
   "execution_count": null,
   "id": "4a25732c",
   "metadata": {},
   "outputs": [],
   "source": []
  },
  {
   "cell_type": "code",
   "execution_count": null,
   "id": "5052af46",
   "metadata": {},
   "outputs": [],
   "source": []
  },
  {
   "cell_type": "code",
   "execution_count": null,
   "id": "b15f9d54",
   "metadata": {},
   "outputs": [],
   "source": []
  },
  {
   "cell_type": "code",
   "execution_count": null,
   "id": "195cccea",
   "metadata": {},
   "outputs": [],
   "source": []
  },
  {
   "cell_type": "markdown",
   "id": "2d104656",
   "metadata": {},
   "source": [
    "## 1-2 유형주석 사용가능 "
   ]
  },
  {
   "cell_type": "code",
   "execution_count": 12,
   "id": "5e3645d1",
   "metadata": {},
   "outputs": [
    {
     "name": "stdout",
     "output_type": "stream",
     "text": [
      "first_name='Ahmed' last_name='Besbes' interest=None\n"
     ]
    }
   ],
   "source": [
    "from pydantic import BaseModel\n",
    "from typing import Optional, List\n",
    "\n",
    "class Person(BaseModel):\n",
    "    first_name: str\n",
    "    last_name: str\n",
    "    interest: Optional[List[str]]\n",
    "\n",
    "data = {\"first_name\": \"Ahmed\", \"last_name\": \"Besbes\", \"interest\" :None }\n",
    "person = Person(**data)\n",
    "print(person)"
   ]
  },
  {
   "cell_type": "code",
   "execution_count": null,
   "id": "6f8258b7",
   "metadata": {},
   "outputs": [],
   "source": []
  },
  {
   "cell_type": "code",
   "execution_count": null,
   "id": "c4e7727e",
   "metadata": {},
   "outputs": [],
   "source": []
  },
  {
   "cell_type": "markdown",
   "id": "061bff4b",
   "metadata": {},
   "source": [
    "## 1-4 Field customization\n",
    "Pydantic을 사용하면 각 필드를 Field 클래스 내부에 warpping하여 기본적으로 일부 유효성 검사를 추가할 수 있습니다.\n",
    "\n",
    "first_name은 최소 2글자에서 최대 20글자로 제한할 수 있습니다.\n",
    "age는 150 이하로 설정할 수 있습니다."
   ]
  },
  {
   "cell_type": "code",
   "execution_count": 14,
   "id": "9e9c67db",
   "metadata": {},
   "outputs": [],
   "source": [
    "from pydantic import BaseModel, Field\n",
    "from typing import Optional\n"
   ]
  },
  {
   "cell_type": "code",
   "execution_count": 15,
   "id": "d4bfe849",
   "metadata": {},
   "outputs": [],
   "source": [
    "class Address(BaseModel):\n",
    "    street: str \n",
    "    number: int\n",
    "    zipcode: str"
   ]
  },
  {
   "cell_type": "code",
   "execution_count": 16,
   "id": "37563dfc",
   "metadata": {},
   "outputs": [],
   "source": [
    "class Person(BaseModel):\n",
    "    first_name: str = Field(min_length=2, max_length=20)\n",
    "    last_name: str\n",
    "    age: int = Field(le=150)\n",
    "    address: Optional[Address]"
   ]
  },
  {
   "cell_type": "markdown",
   "id": "ef5ba8bc",
   "metadata": {},
   "source": [
    "## 1-4 Custom validators\n",
    "- 새롭게 유효기 검사를 추가해서 검증할 수 있습니다.\n",
    "\n",
    "\n",
    "### fiedl_validator 데코레이터를 사용해서 custom validation과 오브젝트 사이의 복잡한 관계를 수행할 수 있다.\n",
    "\n",
    "- field_validator는 클래스 메소드이기 때문에 첫번째 인자는 클래스가 오고, 두번째 인자는 유효성을 검사할 필드값이 온다.\n",
    "- field_validator는 parsing한 값 또는 ValueError/TypeError/ AssertionError 을 반환한다.\n",
    "- 유효성 검사는 정의된 필드 순서대로 수행되기 때문에 password 는 name 에 접근할 수 있지만, name 은 password 에 접근할 수 없다."
   ]
  },
  {
   "cell_type": "code",
   "execution_count": 18,
   "id": "9f2db34f",
   "metadata": {},
   "outputs": [],
   "source": [
    "from pydantic import BaseModel, ValidationError, field_validator\n",
    "\n",
    "class UserModel(BaseModel):     \n",
    "    name: str     \n",
    "    username: str     \n",
    "    password: str          \n",
    "    @field_validator('name')\n",
    "    @classmethod\n",
    "    def name_must_contain_space(cls, v):         \n",
    "        if ' ' not in v:             \n",
    "            raise ValueError('must contain a space')         \n",
    "        return v.title()\n",
    "      "
   ]
  },
  {
   "cell_type": "code",
   "execution_count": 19,
   "id": "a788096b",
   "metadata": {},
   "outputs": [
    {
     "name": "stdout",
     "output_type": "stream",
     "text": [
      "1 validation error for UserModel\n",
      "name\n",
      "  Value error, must contain a space [type=value_error, input_value='samuel', input_type=str]\n",
      "    For further information visit https://errors.pydantic.dev/2.4/v/value_error\n"
     ]
    }
   ],
   "source": [
    "try:     \n",
    "    UserModel(         \n",
    "        name='samuel',          \n",
    "        username='scolvin',         \n",
    "        password='zxcvbn'\n",
    "    ) \n",
    "except ValidationError as e:     \n",
    "    print(e)    "
   ]
  },
  {
   "cell_type": "code",
   "execution_count": 20,
   "id": "b1b71b7a",
   "metadata": {},
   "outputs": [],
   "source": [
    "try:     \n",
    "    UserModel(         \n",
    "        name='samuel moon',          \n",
    "        username='scolvin',         \n",
    "        password='zxcvbn'\n",
    "    ) \n",
    "except ValidationError as e:     \n",
    "    print(e) "
   ]
  },
  {
   "cell_type": "code",
   "execution_count": null,
   "id": "16a6d018",
   "metadata": {},
   "outputs": [],
   "source": []
  },
  {
   "cell_type": "code",
   "execution_count": null,
   "id": "d478c540",
   "metadata": {},
   "outputs": [],
   "source": []
  },
  {
   "cell_type": "markdown",
   "id": "9729a4c9",
   "metadata": {},
   "source": [
    "## 1-5 exporting model\n",
    "- model.foobar 와 같이 이름으로 모델의 속성에 접근할 수도 있지만 json이나 dict로 변환하여 모델에 접근할 수 도 있다."
   ]
  },
  {
   "cell_type": "markdown",
   "id": "6809c83e",
   "metadata": {},
   "source": [
    "###  내부 필드 확인하기 \n",
    "- include , exclude 인자를 통해 변환시 포함 또는 포함하지 않을 필드를 지정할 수 있다."
   ]
  },
  {
   "cell_type": "code",
   "execution_count": 21,
   "id": "64f44060",
   "metadata": {},
   "outputs": [],
   "source": [
    "from pydantic import BaseModel\n",
    "class BarModel(BaseModel):\n",
    "    whatever: int\n",
    "        \n",
    "class FooBarModel(BaseModel):\n",
    "    banana: float\n",
    "    foo: str\n",
    "    bar: BarModel\n",
    "        \n",
    "\n",
    "m = FooBarModel(banana=3.14, foo='hello', bar={'whatever': 123})\n"
   ]
  },
  {
   "cell_type": "code",
   "execution_count": 24,
   "id": "10c389db",
   "metadata": {},
   "outputs": [
    {
     "name": "stdout",
     "output_type": "stream",
     "text": [
      "{'banana': 3.14, 'foo': 'hello', 'bar': {'whatever': 123}}\n"
     ]
    }
   ],
   "source": [
    "print(m.model_dump())"
   ]
  },
  {
   "cell_type": "code",
   "execution_count": 25,
   "id": "0612efb9",
   "metadata": {},
   "outputs": [
    {
     "name": "stdout",
     "output_type": "stream",
     "text": [
      "{'foo': 'hello', 'bar': {'whatever': 123}}\n"
     ]
    }
   ],
   "source": [
    "print(m.model_dump(include={'foo', 'bar'}))"
   ]
  },
  {
   "cell_type": "code",
   "execution_count": null,
   "id": "4ff43233",
   "metadata": {},
   "outputs": [],
   "source": []
  },
  {
   "cell_type": "markdown",
   "id": "b5854a88",
   "metadata": {},
   "source": [
    "### json으로 보기 "
   ]
  },
  {
   "cell_type": "code",
   "execution_count": 29,
   "id": "299c0974",
   "metadata": {},
   "outputs": [
    {
     "name": "stdout",
     "output_type": "stream",
     "text": [
      "{\"foo\":\"2032-06-01T12:13:14\",\"bar\":{\"whatever\":123}}\n"
     ]
    }
   ],
   "source": [
    "print(m.model_dump_json())"
   ]
  },
  {
   "cell_type": "code",
   "execution_count": null,
   "id": "fcb4123f",
   "metadata": {},
   "outputs": [],
   "source": []
  }
 ],
 "metadata": {
  "kernelspec": {
   "display_name": "Python 3 (ipykernel)",
   "language": "python",
   "name": "python3"
  },
  "language_info": {
   "codemirror_mode": {
    "name": "ipython",
    "version": 3
   },
   "file_extension": ".py",
   "mimetype": "text/x-python",
   "name": "python",
   "nbconvert_exporter": "python",
   "pygments_lexer": "ipython3",
   "version": "3.11.3"
  }
 },
 "nbformat": 4,
 "nbformat_minor": 5
}
