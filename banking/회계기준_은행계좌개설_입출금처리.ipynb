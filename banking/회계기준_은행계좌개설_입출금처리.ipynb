{
 "cells": [
  {
   "cell_type": "code",
   "execution_count": null,
   "id": "2bf900b1-9a71-4744-be62-dbc03091ee3a",
   "metadata": {},
   "outputs": [],
   "source": []
  },
  {
   "cell_type": "markdown",
   "id": "741ef55d-8264-4595-a265-e492c76824c3",
   "metadata": {},
   "source": [
    "## 계좌개설 "
   ]
  },
  {
   "cell_type": "code",
   "execution_count": 1,
   "id": "e799a295-9a6e-4def-9cd6-fe622d3723af",
   "metadata": {},
   "outputs": [],
   "source": [
    "class Account :\n",
    "    def __init__(self,id:int,amount:int) :\n",
    "        self.id = id\n",
    "        self.balance = amount"
   ]
  },
  {
   "cell_type": "markdown",
   "id": "d7928e84-39cf-4afb-b712-8bc2faec159f",
   "metadata": {},
   "source": [
    "## 정산 처리 "
   ]
  },
  {
   "cell_type": "code",
   "execution_count": 2,
   "id": "acc6e474-0c7f-40d4-875a-c1d76ec23b65",
   "metadata": {},
   "outputs": [],
   "source": [
    "class Settlement :\n",
    "    def __init__(self, obj:Account) :\n",
    "        self.acc = obj\n",
    "\n",
    "    def deposit(self, amount) :\n",
    "        if amount > 0 :\n",
    "            self.acc.balance += amount\n",
    "            return \"good deposit \"\n",
    "        else :\n",
    "            return \"no deposit \"\n",
    "\n",
    "    def withthraw(self,amount) :\n",
    "        if self.acc.balance < amount :\n",
    "            return \"no withthraw \"\n",
    "        else : \n",
    "            self.acc.balance -= amount\n",
    "            return \" good withthraw\"\n",
    "\n",
    "    def query(self) :\n",
    "        return self.acc.balance\n",
    "        "
   ]
  },
  {
   "cell_type": "markdown",
   "id": "3030adee-97b4-4f6f-8965-0e29657c0401",
   "metadata": {},
   "source": [
    "\n",
    "## 계좌를 개설하고 정산 처리 "
   ]
  },
  {
   "cell_type": "code",
   "execution_count": 3,
   "id": "01e466d1-e2f4-4ee9-b405-e6aec11889cd",
   "metadata": {},
   "outputs": [],
   "source": [
    "a1 = Account(1,1000)"
   ]
  },
  {
   "cell_type": "code",
   "execution_count": 4,
   "id": "1e5ef34f-e1f6-473c-a9e9-6046948e96d5",
   "metadata": {},
   "outputs": [],
   "source": [
    "s1 = Settlement(a1)"
   ]
  },
  {
   "cell_type": "code",
   "execution_count": 5,
   "id": "e03800f9-7e22-40d9-88d4-e2e2255f4244",
   "metadata": {},
   "outputs": [
    {
     "data": {
      "text/plain": [
       "'good deposit '"
      ]
     },
     "execution_count": 5,
     "metadata": {},
     "output_type": "execute_result"
    }
   ],
   "source": [
    "s1.deposit(1000)"
   ]
  },
  {
   "cell_type": "code",
   "execution_count": 6,
   "id": "edccb16f-6413-44d9-8db0-d20438fa7bf8",
   "metadata": {},
   "outputs": [
    {
     "data": {
      "text/plain": [
       "2000"
      ]
     },
     "execution_count": 6,
     "metadata": {},
     "output_type": "execute_result"
    }
   ],
   "source": [
    "s1.query()"
   ]
  },
  {
   "cell_type": "code",
   "execution_count": 7,
   "id": "f0155c50-8f43-424a-9cf3-5cbd15bfc2e3",
   "metadata": {},
   "outputs": [
    {
     "data": {
      "text/plain": [
       "'no withthraw '"
      ]
     },
     "execution_count": 7,
     "metadata": {},
     "output_type": "execute_result"
    }
   ],
   "source": [
    "s1.withthraw(3000)"
   ]
  },
  {
   "cell_type": "code",
   "execution_count": 8,
   "id": "8b759822-5600-4dca-89f6-289dde09aa0e",
   "metadata": {},
   "outputs": [
    {
     "data": {
      "text/plain": [
       "' good withthraw'"
      ]
     },
     "execution_count": 8,
     "metadata": {},
     "output_type": "execute_result"
    }
   ],
   "source": [
    "s1.withthraw(300)"
   ]
  },
  {
   "cell_type": "code",
   "execution_count": 9,
   "id": "6a05e4ca-dc29-417a-8d53-b0a44c67b7f1",
   "metadata": {},
   "outputs": [
    {
     "data": {
      "text/plain": [
       "1700"
      ]
     },
     "execution_count": 9,
     "metadata": {},
     "output_type": "execute_result"
    }
   ],
   "source": [
    "s1.query()"
   ]
  },
  {
   "cell_type": "code",
   "execution_count": null,
   "id": "cd8c771a-593f-4357-805a-42dd04eb8637",
   "metadata": {},
   "outputs": [],
   "source": []
  }
 ],
 "metadata": {
  "kernelspec": {
   "display_name": "Python 3 (ipykernel)",
   "language": "python",
   "name": "python3"
  },
  "language_info": {
   "codemirror_mode": {
    "name": "ipython",
    "version": 3
   },
   "file_extension": ".py",
   "mimetype": "text/x-python",
   "name": "python",
   "nbconvert_exporter": "python",
   "pygments_lexer": "ipython3",
   "version": "3.12.4"
  }
 },
 "nbformat": 4,
 "nbformat_minor": 5
}
