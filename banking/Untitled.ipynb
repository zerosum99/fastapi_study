{
 "cells": [
  {
   "cell_type": "code",
   "execution_count": null,
   "id": "4b22420c-c4eb-4cb8-b590-481759d4ea92",
   "metadata": {},
   "outputs": [],
   "source": []
  },
  {
   "cell_type": "code",
   "execution_count": null,
   "id": "9cfa3f37-1296-46d7-91b1-7e10cf915c08",
   "metadata": {},
   "outputs": [],
   "source": []
  },
  {
   "cell_type": "code",
   "execution_count": 1,
   "id": "5c8111ca-4015-48b5-afd0-fd1854cecf76",
   "metadata": {},
   "outputs": [],
   "source": [
    "class InvolvedParty :\n",
    "    pass"
   ]
  },
  {
   "cell_type": "code",
   "execution_count": 6,
   "id": "514207c0-32b2-47fd-bd06-43adacb839c0",
   "metadata": {},
   "outputs": [],
   "source": [
    "class Person(InvolvedParty) :\n",
    "    pass"
   ]
  },
  {
   "cell_type": "code",
   "execution_count": 12,
   "id": "249cf445-1221-41af-ab67-e18eefd73b3f",
   "metadata": {},
   "outputs": [],
   "source": [
    "class InvolvedPartyRole :\n",
    "    pass"
   ]
  },
  {
   "cell_type": "code",
   "execution_count": 13,
   "id": "ec446fe9-348f-444f-8f43-942458461d89",
   "metadata": {},
   "outputs": [],
   "source": [
    "class Owner(InvolvedPartyRole) :\n",
    "    pass"
   ]
  },
  {
   "cell_type": "code",
   "execution_count": 2,
   "id": "17de0110-25cd-4341-a4a9-1dab9b6e4133",
   "metadata": {},
   "outputs": [],
   "source": [
    "class Agreement :\n",
    "    pass"
   ]
  },
  {
   "cell_type": "code",
   "execution_count": 8,
   "id": "072d20e0-4e49-4b3d-ad7d-814f30643eeb",
   "metadata": {},
   "outputs": [],
   "source": [
    "class Deposit(Agreement) :\n",
    "    pass"
   ]
  },
  {
   "cell_type": "code",
   "execution_count": 9,
   "id": "0ce50654-c98f-4dc9-80e2-61e9cad9bf87",
   "metadata": {},
   "outputs": [],
   "source": [
    "class Loan(Agreement) :\n",
    "    pass"
   ]
  },
  {
   "cell_type": "code",
   "execution_count": 7,
   "id": "a261a364-5187-4121-b22c-e29e39da8e4a",
   "metadata": {},
   "outputs": [],
   "source": [
    "class Settlement :\n",
    "    pass"
   ]
  },
  {
   "cell_type": "code",
   "execution_count": null,
   "id": "bee62fe4-e438-4fe8-a30c-2b6643555274",
   "metadata": {},
   "outputs": [],
   "source": []
  },
  {
   "cell_type": "code",
   "execution_count": 3,
   "id": "cbd9256e-2036-4c3f-943b-15d959fbfe39",
   "metadata": {},
   "outputs": [],
   "source": [
    "class Product :\n",
    "    pass"
   ]
  },
  {
   "cell_type": "code",
   "execution_count": 10,
   "id": "b28e753d-e149-4710-93a7-297e38b8bffc",
   "metadata": {},
   "outputs": [],
   "source": [
    "class DepositProduct(Product) :\n",
    "    pass"
   ]
  },
  {
   "cell_type": "code",
   "execution_count": 11,
   "id": "8c327657-da06-4a50-b4b6-16f4ca9865a3",
   "metadata": {},
   "outputs": [],
   "source": [
    "class LoanProduct(Product) :\n",
    "    pass"
   ]
  },
  {
   "cell_type": "code",
   "execution_count": 4,
   "id": "3e37218e-424c-4ba1-80ad-5d339bd7b391",
   "metadata": {},
   "outputs": [],
   "source": [
    "class AccountUnit :\n",
    "    pass"
   ]
  },
  {
   "cell_type": "code",
   "execution_count": null,
   "id": "b704e639-ed94-4dfb-9144-4631dd78671f",
   "metadata": {},
   "outputs": [],
   "source": []
  }
 ],
 "metadata": {
  "kernelspec": {
   "display_name": "Python 3 (ipykernel)",
   "language": "python",
   "name": "python3"
  },
  "language_info": {
   "codemirror_mode": {
    "name": "ipython",
    "version": 3
   },
   "file_extension": ".py",
   "mimetype": "text/x-python",
   "name": "python",
   "nbconvert_exporter": "python",
   "pygments_lexer": "ipython3",
   "version": "3.12.4"
  }
 },
 "nbformat": 4,
 "nbformat_minor": 5
}
