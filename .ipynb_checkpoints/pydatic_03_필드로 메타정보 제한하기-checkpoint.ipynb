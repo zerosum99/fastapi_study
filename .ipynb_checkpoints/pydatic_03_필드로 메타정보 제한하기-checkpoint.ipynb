{
 "cells": [
  {
   "cell_type": "code",
   "execution_count": null,
   "id": "3b9b5a98",
   "metadata": {},
   "outputs": [],
   "source": []
  },
  {
   "cell_type": "code",
   "execution_count": 1,
   "id": "cb27461a",
   "metadata": {},
   "outputs": [],
   "source": [
    "import pydantic"
   ]
  },
  {
   "cell_type": "code",
   "execution_count": 2,
   "id": "236275ad",
   "metadata": {},
   "outputs": [
    {
     "data": {
      "text/plain": [
       "'2.4.2'"
      ]
     },
     "execution_count": 2,
     "metadata": {},
     "output_type": "execute_result"
    }
   ],
   "source": [
    "pydantic.__version__"
   ]
  },
  {
   "cell_type": "code",
   "execution_count": null,
   "id": "6e494636",
   "metadata": {},
   "outputs": [],
   "source": []
  },
  {
   "cell_type": "code",
   "execution_count": 11,
   "id": "c234be61",
   "metadata": {},
   "outputs": [],
   "source": [
    "from pydantic import BaseModel, Field\n",
    "from datetime import datetime, date"
   ]
  },
  {
   "cell_type": "markdown",
   "id": "765a9d3b",
   "metadata": {},
   "source": [
    "## 1. 필드 처리하기 \n",
    "\n",
    "- The Field function is used to customize and add metadata to fields of models."
   ]
  },
  {
   "cell_type": "code",
   "execution_count": null,
   "id": "613ff760",
   "metadata": {},
   "outputs": [],
   "source": []
  },
  {
   "cell_type": "markdown",
   "id": "ddda282f",
   "metadata": {},
   "source": [
    "## 1-1 default 인자 처리 "
   ]
  },
  {
   "cell_type": "markdown",
   "id": "4f7b1275",
   "metadata": {},
   "source": [
    "### 초기값 세팅 "
   ]
  },
  {
   "cell_type": "code",
   "execution_count": 5,
   "id": "dca9fa5b",
   "metadata": {},
   "outputs": [],
   "source": [
    "class Student(BaseModel):\n",
    "    modules: list[int] = []"
   ]
  },
  {
   "cell_type": "code",
   "execution_count": 6,
   "id": "df7093be",
   "metadata": {},
   "outputs": [],
   "source": [
    "class Student(BaseModel):\n",
    "    modules: list[int] = Field(default=[])"
   ]
  },
  {
   "cell_type": "code",
   "execution_count": null,
   "id": "cf360464",
   "metadata": {},
   "outputs": [],
   "source": []
  },
  {
   "cell_type": "markdown",
   "id": "9a9b928a",
   "metadata": {},
   "source": [
    "### 람다표현식 처리 "
   ]
  },
  {
   "cell_type": "code",
   "execution_count": 12,
   "id": "0d4ca2a3",
   "metadata": {},
   "outputs": [],
   "source": [
    "class Student(BaseModel):\n",
    "    date_of_birth: date = Field(default_factory=lambda: datetime.today().date())"
   ]
  },
  {
   "cell_type": "code",
   "execution_count": null,
   "id": "0d1524f4",
   "metadata": {},
   "outputs": [],
   "source": []
  },
  {
   "cell_type": "markdown",
   "id": "3cc06e73",
   "metadata": {},
   "source": [
    "##  1-2. 별칭 사용하기 "
   ]
  },
  {
   "cell_type": "code",
   "execution_count": 13,
   "id": "a6429400",
   "metadata": {},
   "outputs": [],
   "source": [
    "class Student1(BaseModel):\n",
    "    name: str"
   ]
  },
  {
   "cell_type": "code",
   "execution_count": 17,
   "id": "8ba199d7",
   "metadata": {},
   "outputs": [],
   "source": [
    "s1 = Student1(name=\"학생이름\")"
   ]
  },
  {
   "cell_type": "code",
   "execution_count": 21,
   "id": "f35cf561",
   "metadata": {},
   "outputs": [
    {
     "data": {
      "text/plain": [
       "{'name': '학생이름'}"
      ]
     },
     "execution_count": 21,
     "metadata": {},
     "output_type": "execute_result"
    }
   ],
   "source": [
    "s1.model_dump()"
   ]
  },
  {
   "cell_type": "code",
   "execution_count": 14,
   "id": "ea51048b",
   "metadata": {},
   "outputs": [],
   "source": [
    "class Student2(BaseModel):\n",
    "    student_name: str = Field(alias=\"name\")"
   ]
  },
  {
   "cell_type": "code",
   "execution_count": 19,
   "id": "5af94ca4",
   "metadata": {},
   "outputs": [],
   "source": [
    "s2 = Student2(name=\"학생이름\")"
   ]
  },
  {
   "cell_type": "code",
   "execution_count": 20,
   "id": "f4177373",
   "metadata": {},
   "outputs": [
    {
     "data": {
      "text/plain": [
       "{'student_name': '학생이름'}"
      ]
     },
     "execution_count": 20,
     "metadata": {},
     "output_type": "execute_result"
    }
   ],
   "source": [
    "s2.model_dump()"
   ]
  },
  {
   "cell_type": "code",
   "execution_count": null,
   "id": "0acbf072",
   "metadata": {},
   "outputs": [],
   "source": []
  },
  {
   "cell_type": "markdown",
   "id": "0a5c7b23",
   "metadata": {},
   "source": [
    "## 1-3 Numeric Constraints\n",
    "\n",
    "- gt:greater than, lt:less than, ge:greater than or equal to, le:less than or equal to\n",
    "- multiple_of:a multiple of the given number\n",
    "- allow_inf_nan: allow 'inf', '-inf', 'nan' values"
   ]
  },
  {
   "cell_type": "code",
   "execution_count": 24,
   "id": "0b0ae8d2",
   "metadata": {},
   "outputs": [],
   "source": [
    "class Foo(BaseModel):\n",
    "    positive: int = Field(gt=0)\n",
    "    non_negative: int = Field(ge=0)\n",
    "    negative: int = Field(lt=0)\n",
    "    non_positive: int = Field(le=0)\n",
    "    even: int = Field(multiple_of=2)\n",
    "    love_for_pydantic: float = Field(allow_inf_nan=True)\n"
   ]
  },
  {
   "cell_type": "code",
   "execution_count": 25,
   "id": "938030f6",
   "metadata": {},
   "outputs": [],
   "source": [
    "foo = Foo(\n",
    "    positive=1,\n",
    "    non_negative=0,\n",
    "    negative=-1,\n",
    "    non_positive=0,\n",
    "    even=2,\n",
    "    love_for_pydantic=float('inf'),\n",
    ")"
   ]
  },
  {
   "cell_type": "code",
   "execution_count": 26,
   "id": "6d659f76",
   "metadata": {},
   "outputs": [
    {
     "data": {
      "text/plain": [
       "Foo(positive=1, non_negative=0, negative=-1, non_positive=0, even=2, love_for_pydantic=inf)"
      ]
     },
     "execution_count": 26,
     "metadata": {},
     "output_type": "execute_result"
    }
   ],
   "source": [
    "foo"
   ]
  },
  {
   "cell_type": "code",
   "execution_count": null,
   "id": "4006889c",
   "metadata": {},
   "outputs": [],
   "source": []
  },
  {
   "cell_type": "markdown",
   "id": "50626259",
   "metadata": {},
   "source": [
    "## 1-5 String Constraints¶\n",
    "There are fields that can be used to constrain strings:\n",
    "\n",
    "- min_length: Minimum length of the string.\n",
    "- max_length: Maximum length of the string.\n",
    "- pattern: A regular expression that the string must match."
   ]
  },
  {
   "cell_type": "code",
   "execution_count": 27,
   "id": "83b384e5",
   "metadata": {},
   "outputs": [],
   "source": [
    "class Foo(BaseModel):\n",
    "    short: str = Field(min_length=3)\n",
    "    long: str = Field(max_length=10)\n",
    "    regex: str = Field(pattern=r'^\\d*$')  \n"
   ]
  },
  {
   "cell_type": "code",
   "execution_count": 28,
   "id": "1bdc7463",
   "metadata": {},
   "outputs": [],
   "source": [
    "foo = Foo(short='foo', long='foobarbaz', regex='123')"
   ]
  },
  {
   "cell_type": "code",
   "execution_count": 29,
   "id": "3edfb2ab",
   "metadata": {},
   "outputs": [
    {
     "data": {
      "text/plain": [
       "Foo(short='foo', long='foobarbaz', regex='123')"
      ]
     },
     "execution_count": 29,
     "metadata": {},
     "output_type": "execute_result"
    }
   ],
   "source": [
    "foo"
   ]
  },
  {
   "cell_type": "code",
   "execution_count": null,
   "id": "ef157c55",
   "metadata": {},
   "outputs": [],
   "source": []
  },
  {
   "cell_type": "markdown",
   "id": "466e8db8",
   "metadata": {},
   "source": [
    "## 1-6 Decimal Constraints¶\n",
    "There are fields that can be used to constrain decimals:\n",
    "\n",
    "- max_digits: Maximum number of digits within the Decimal. It does not include a zero before the decimal point or trailing decimal zeroes.\n",
    "- decimal_places: Maximum number of decimal places allowed. It does not include trailing decimal zeroes."
   ]
  },
  {
   "cell_type": "code",
   "execution_count": 30,
   "id": "bb12e835",
   "metadata": {},
   "outputs": [],
   "source": [
    "from decimal import Decimal"
   ]
  },
  {
   "cell_type": "code",
   "execution_count": null,
   "id": "2380fe6c",
   "metadata": {},
   "outputs": [],
   "source": []
  },
  {
   "cell_type": "code",
   "execution_count": 31,
   "id": "0002088d",
   "metadata": {},
   "outputs": [],
   "source": [
    "class Foo(BaseModel):\n",
    "    precise: Decimal = Field(max_digits=5, decimal_places=2)\n"
   ]
  },
  {
   "cell_type": "code",
   "execution_count": 32,
   "id": "903f3c6a",
   "metadata": {},
   "outputs": [
    {
     "name": "stdout",
     "output_type": "stream",
     "text": [
      "precise=Decimal('123.45')\n"
     ]
    }
   ],
   "source": [
    "\n",
    "foo = Foo(precise=Decimal('123.45'))\n",
    "print(foo)"
   ]
  },
  {
   "cell_type": "code",
   "execution_count": null,
   "id": "55a901eb",
   "metadata": {},
   "outputs": [],
   "source": []
  },
  {
   "cell_type": "code",
   "execution_count": null,
   "id": "d102d1ad",
   "metadata": {},
   "outputs": [],
   "source": []
  },
  {
   "cell_type": "markdown",
   "id": "d2e06372",
   "metadata": {},
   "source": [
    "## 1-7 Dataclass Constraints¶\n",
    "There are fields that can be used to constrain dataclasses:\n",
    "\n",
    "- init_var: Whether the field should be seen as an init-only field in the dataclass.\n",
    "- kw_only: Whether the field should be a keyword-only argument in the constructor of the dataclass."
   ]
  },
  {
   "cell_type": "code",
   "execution_count": 33,
   "id": "9ac3b7fe",
   "metadata": {},
   "outputs": [],
   "source": [
    "from pydantic.dataclasses import dataclass"
   ]
  },
  {
   "cell_type": "code",
   "execution_count": 34,
   "id": "9438dad4",
   "metadata": {},
   "outputs": [],
   "source": [
    "@dataclass\n",
    "class Foo:\n",
    "    bar: str\n",
    "    baz: str = Field(init_var=True)\n",
    "    qux: str = Field(kw_only=True)\n",
    "\n",
    "\n",
    "class Model(BaseModel):\n",
    "    foo: Foo"
   ]
  },
  {
   "cell_type": "code",
   "execution_count": 35,
   "id": "1aebccac",
   "metadata": {},
   "outputs": [
    {
     "name": "stdout",
     "output_type": "stream",
     "text": [
      "{'foo': {'bar': 'bar', 'qux': 'qux'}}\n"
     ]
    }
   ],
   "source": [
    "model = Model(foo=Foo('bar', baz='baz', qux='qux'))\n",
    "print(model.model_dump())"
   ]
  },
  {
   "cell_type": "code",
   "execution_count": null,
   "id": "091753ee",
   "metadata": {},
   "outputs": [],
   "source": []
  },
  {
   "cell_type": "code",
   "execution_count": null,
   "id": "e6df3a5f",
   "metadata": {},
   "outputs": [],
   "source": []
  },
  {
   "cell_type": "markdown",
   "id": "9113900f",
   "metadata": {},
   "source": [
    "## 1-8. Validate Default Values¶\n",
    "The parameter validate_default can be used to control whether the default value of the field should be validated."
   ]
  },
  {
   "cell_type": "code",
   "execution_count": null,
   "id": "4493de23",
   "metadata": {},
   "outputs": [],
   "source": []
  },
  {
   "cell_type": "code",
   "execution_count": 37,
   "id": "e436bebf",
   "metadata": {},
   "outputs": [
    {
     "name": "stdout",
     "output_type": "stream",
     "text": [
      "1 validation error for User\n",
      "age\n",
      "  Input should be a valid integer, unable to parse string as an integer [type=int_parsing, input_value='twelve', input_type=str]\n",
      "    For further information visit https://errors.pydantic.dev/2.4/v/int_parsing\n"
     ]
    }
   ],
   "source": [
    "from pydantic import BaseModel, Field, ValidationError\n",
    "\n",
    "\n",
    "class User(BaseModel):\n",
    "    age: int = Field(default='twelve', validate_default=True)\n",
    "\n",
    "\n",
    "try:\n",
    "    user = User()\n",
    "except ValidationError as e:\n",
    "    print(e)"
   ]
  },
  {
   "cell_type": "code",
   "execution_count": null,
   "id": "4be55b6b",
   "metadata": {},
   "outputs": [],
   "source": []
  },
  {
   "cell_type": "markdown",
   "id": "f72e93d5",
   "metadata": {},
   "source": [
    "## 1-9 Field Representation¶\n",
    "The parameter repr can be used to control whether the field should be included in the string representation of the model."
   ]
  },
  {
   "cell_type": "code",
   "execution_count": 38,
   "id": "1af2ebae",
   "metadata": {},
   "outputs": [
    {
     "name": "stdout",
     "output_type": "stream",
     "text": [
      "name='John'\n"
     ]
    }
   ],
   "source": [
    "class User(BaseModel):\n",
    "    name: str = Field(repr=True)  \n",
    "    age: int = Field(repr=False)\n",
    "\n",
    "\n",
    "user = User(name='John', age=42)\n",
    "print(user)"
   ]
  },
  {
   "cell_type": "code",
   "execution_count": null,
   "id": "66cd1ef0",
   "metadata": {},
   "outputs": [],
   "source": []
  },
  {
   "cell_type": "markdown",
   "id": "a9a491b3",
   "metadata": {},
   "source": [
    "## 1-10 Discriminator¶\n",
    "The parameter discriminator can be used to control the field that will be used to discriminate between different models in a union."
   ]
  },
  {
   "cell_type": "code",
   "execution_count": 39,
   "id": "4ec8468d",
   "metadata": {},
   "outputs": [
    {
     "name": "stdout",
     "output_type": "stream",
     "text": [
      "pet=Cat(pet_type='cat', age=12)\n"
     ]
    }
   ],
   "source": [
    "from typing import Literal, Union\n",
    "\n",
    "from pydantic import BaseModel, Field\n",
    "\n",
    "\n",
    "class Cat(BaseModel):\n",
    "    pet_type: Literal['cat']\n",
    "    age: int\n",
    "\n",
    "\n",
    "class Dog(BaseModel):\n",
    "    pet_type: Literal['dog']\n",
    "    age: int\n",
    "\n",
    "\n",
    "class Model(BaseModel):\n",
    "    pet: Union[Cat, Dog] = Field(discriminator='pet_type')\n",
    "\n",
    "\n",
    "print(Model.model_validate({'pet': {'pet_type': 'cat', 'age': 12}}))"
   ]
  },
  {
   "cell_type": "code",
   "execution_count": null,
   "id": "6649b514",
   "metadata": {},
   "outputs": [],
   "source": []
  },
  {
   "cell_type": "markdown",
   "id": "828b1e57",
   "metadata": {},
   "source": [
    "## 1-11 Strict Mode¶\n",
    "The strict parameter on a Field specifies whether the field should be validated in \"strict mode\". In strict mode, Pydantic throws an error during validation instead of coercing data on the field where strict=True"
   ]
  },
  {
   "cell_type": "code",
   "execution_count": 40,
   "id": "df849a7a",
   "metadata": {},
   "outputs": [
    {
     "name": "stdout",
     "output_type": "stream",
     "text": [
      "name='John' age=42\n"
     ]
    }
   ],
   "source": [
    "class User(BaseModel):\n",
    "    name: str = Field(strict=True)  \n",
    "    age: int = Field(strict=False)\n",
    "\n",
    "\n",
    "user = User(name='John', age='42')  \n",
    "print(user)"
   ]
  },
  {
   "cell_type": "code",
   "execution_count": null,
   "id": "a40719d8",
   "metadata": {},
   "outputs": [],
   "source": []
  },
  {
   "cell_type": "code",
   "execution_count": null,
   "id": "03a35665",
   "metadata": {},
   "outputs": [],
   "source": []
  },
  {
   "cell_type": "markdown",
   "id": "389ee91d",
   "metadata": {},
   "source": [
    "## 1-12 Immutability¶\n",
    "The parameter frozen is used to emulate the [frozen dataclass] behaviour. It is used to prevent the field from being assigned a new value after the model is created (immutability)."
   ]
  },
  {
   "cell_type": "code",
   "execution_count": 41,
   "id": "309df101",
   "metadata": {},
   "outputs": [
    {
     "name": "stdout",
     "output_type": "stream",
     "text": [
      "1 validation error for User\n",
      "name\n",
      "  Field is frozen [type=frozen_field, input_value='Jane', input_type=str]\n",
      "    For further information visit https://errors.pydantic.dev/2.4/v/frozen_field\n"
     ]
    }
   ],
   "source": [
    "from pydantic import BaseModel, Field, ValidationError\n",
    "\n",
    "\n",
    "class User(BaseModel):\n",
    "    name: str = Field(frozen=True)\n",
    "    age: int\n",
    "\n",
    "\n",
    "user = User(name='John', age=42)\n",
    "\n",
    "try:\n",
    "    user.name = 'Jane'  \n",
    "except ValidationError as e:\n",
    "    print(e)"
   ]
  },
  {
   "cell_type": "code",
   "execution_count": null,
   "id": "cb46d9e4",
   "metadata": {},
   "outputs": [],
   "source": []
  },
  {
   "cell_type": "markdown",
   "id": "392c2690",
   "metadata": {},
   "source": [
    "## 1-13 Exclude¶\n",
    "The exclude parameter can be used to control which fields should be excluded from the model when exporting the model."
   ]
  },
  {
   "cell_type": "code",
   "execution_count": 42,
   "id": "b4082bd5",
   "metadata": {},
   "outputs": [
    {
     "name": "stdout",
     "output_type": "stream",
     "text": [
      "{'name': 'John'}\n"
     ]
    }
   ],
   "source": [
    "from pydantic import BaseModel, Field\n",
    "\n",
    "\n",
    "class User(BaseModel):\n",
    "    name: str\n",
    "    age: int = Field(exclude=True)\n",
    "\n",
    "\n",
    "user = User(name='John', age=42)\n",
    "print(user.model_dump())"
   ]
  },
  {
   "cell_type": "code",
   "execution_count": null,
   "id": "dcbff502",
   "metadata": {},
   "outputs": [],
   "source": []
  }
 ],
 "metadata": {
  "kernelspec": {
   "display_name": "Python 3 (ipykernel)",
   "language": "python",
   "name": "python3"
  },
  "language_info": {
   "codemirror_mode": {
    "name": "ipython",
    "version": 3
   },
   "file_extension": ".py",
   "mimetype": "text/x-python",
   "name": "python",
   "nbconvert_exporter": "python",
   "pygments_lexer": "ipython3",
   "version": "3.11.3"
  }
 },
 "nbformat": 4,
 "nbformat_minor": 5
}
