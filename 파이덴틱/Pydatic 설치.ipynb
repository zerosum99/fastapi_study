{
 "cells": [
  {
   "cell_type": "code",
   "execution_count": null,
   "id": "cd2ad348-49b7-449d-bc1a-a664949577ad",
   "metadata": {},
   "outputs": [],
   "source": []
  },
  {
   "cell_type": "markdown",
   "id": "09c27532-2894-4f55-b468-105080983078",
   "metadata": {},
   "source": [
    "## Optional dependencies\n",
    "pydantic은 필요에 따라 다음과 같은 선택적 종속성과 함께 제공됩니다.\n",
    "\n",
    "email-validator — Support for email validation.\n",
    "\n",
    "typing-extensions — Support use of Literal prior to Python 3.8.\n",
    "\n",
    "python-dotenv — Support for dotenv file with settings.\n",
    "\n",
    "## 추가 설치\n",
    "install email-validator\n",
    "pip install pydantic[email]\n",
    "\n",
    "install typing-extensions\n",
    "pip install pydantic[typing_extensions]\n",
    "\n",
    "install python-dotenv\n",
    "pip install pydantic[dotenv]\n",
    "\n",
    "install all dependencies\n",
    "pip install pydantic[email,typing_extensions,dotenv]"
   ]
  },
  {
   "cell_type": "code",
   "execution_count": null,
   "id": "0d88ea72-8e7a-4a32-a1ea-1f5658ce654c",
   "metadata": {},
   "outputs": [],
   "source": []
  }
 ],
 "metadata": {
  "kernelspec": {
   "display_name": "Python 3 (ipykernel)",
   "language": "python",
   "name": "python3"
  },
  "language_info": {
   "codemirror_mode": {
    "name": "ipython",
    "version": 3
   },
   "file_extension": ".py",
   "mimetype": "text/x-python",
   "name": "python",
   "nbconvert_exporter": "python",
   "pygments_lexer": "ipython3",
   "version": "3.12.4"
  }
 },
 "nbformat": 4,
 "nbformat_minor": 5
}
