{
 "cells": [
  {
   "cell_type": "code",
   "execution_count": null,
   "id": "4f4c00b8",
   "metadata": {},
   "outputs": [],
   "source": []
  },
  {
   "cell_type": "code",
   "execution_count": 1,
   "id": "19fa83e8",
   "metadata": {},
   "outputs": [],
   "source": [
    "import pydantic"
   ]
  },
  {
   "cell_type": "code",
   "execution_count": 2,
   "id": "4e2fd092",
   "metadata": {},
   "outputs": [
    {
     "data": {
      "text/plain": [
       "'2.4.2'"
      ]
     },
     "execution_count": 2,
     "metadata": {},
     "output_type": "execute_result"
    }
   ],
   "source": [
    "pydantic.__version__"
   ]
  },
  {
   "cell_type": "code",
   "execution_count": null,
   "id": "f38bfdf9",
   "metadata": {},
   "outputs": [],
   "source": []
  },
  {
   "cell_type": "code",
   "execution_count": null,
   "id": "b706594e",
   "metadata": {},
   "outputs": [],
   "source": []
  },
  {
   "cell_type": "markdown",
   "id": "9bec99d9",
   "metadata": {},
   "source": [
    "# 2. 클래스 선언해서 처리하기 "
   ]
  },
  {
   "cell_type": "code",
   "execution_count": 30,
   "id": "fb993898",
   "metadata": {},
   "outputs": [],
   "source": [
    "from datetime import datetime\n",
    "from typing import Tuple, List, Optional\n",
    "\n",
    "from pydantic import BaseModel, PositiveInt, ValidationError, field_validator"
   ]
  },
  {
   "cell_type": "markdown",
   "id": "d35b8acc",
   "metadata": {},
   "source": [
    "## 2-1 pydantic에서 객체를 정의하는 것은 BaseModel에서 상속되는 새 클래스를 만드는 것"
   ]
  },
  {
   "cell_type": "code",
   "execution_count": 18,
   "id": "3925b2ea",
   "metadata": {},
   "outputs": [],
   "source": [
    "class Delivery(BaseModel):\n",
    "    timestamp: datetime\n",
    "    dimensions: Tuple[int, int]"
   ]
  },
  {
   "cell_type": "code",
   "execution_count": null,
   "id": "5a415113",
   "metadata": {},
   "outputs": [],
   "source": []
  },
  {
   "cell_type": "code",
   "execution_count": 19,
   "id": "a91ecc41",
   "metadata": {},
   "outputs": [],
   "source": [
    "m = Delivery(timestamp='2020-01-02T03:04:05Z', dimensions=['10', '20'])"
   ]
  },
  {
   "cell_type": "code",
   "execution_count": 20,
   "id": "200d9402",
   "metadata": {},
   "outputs": [
    {
     "data": {
      "text/plain": [
       "datetime.datetime(2020, 1, 2, 3, 4, 5, tzinfo=TzInfo(UTC))"
      ]
     },
     "execution_count": 20,
     "metadata": {},
     "output_type": "execute_result"
    }
   ],
   "source": [
    "m.timestamp"
   ]
  },
  {
   "cell_type": "code",
   "execution_count": 21,
   "id": "a250d587",
   "metadata": {},
   "outputs": [
    {
     "name": "stdout",
     "output_type": "stream",
     "text": [
      "datetime.datetime(2020, 1, 2, 3, 4, 5, tzinfo=TzInfo(UTC))\n"
     ]
    }
   ],
   "source": [
    "print(repr(m.timestamp))"
   ]
  },
  {
   "cell_type": "code",
   "execution_count": 22,
   "id": "3511871f",
   "metadata": {},
   "outputs": [
    {
     "name": "stdout",
     "output_type": "stream",
     "text": [
      "(10, 20)\n"
     ]
    }
   ],
   "source": [
    "print(m.dimensions)"
   ]
  },
  {
   "cell_type": "code",
   "execution_count": null,
   "id": "7021e594",
   "metadata": {},
   "outputs": [],
   "source": []
  },
  {
   "cell_type": "markdown",
   "id": "4c8c7207",
   "metadata": {},
   "source": [
    "## 2-2. 클래스 선언해서 처리하기 "
   ]
  },
  {
   "cell_type": "markdown",
   "id": "ca87baf5",
   "metadata": {},
   "source": [
    "## 초기값을 지정한 클래스 선언 "
   ]
  },
  {
   "cell_type": "code",
   "execution_count": 23,
   "id": "9d2a8082",
   "metadata": {},
   "outputs": [],
   "source": [
    "class User(BaseModel):\n",
    "    id: int  \n",
    "    name: str = 'John Doe'                ## 초기값 지정 \n",
    "    signup_ts: datetime | None            ## 유니언타입 지정 \n",
    "    tastes: dict[str, PositiveInt]        ## 양수처리 타입 지정 "
   ]
  },
  {
   "cell_type": "code",
   "execution_count": null,
   "id": "e406a5b6",
   "metadata": {},
   "outputs": [],
   "source": []
  },
  {
   "cell_type": "code",
   "execution_count": 24,
   "id": "8e4ce54b",
   "metadata": {},
   "outputs": [],
   "source": [
    "external_data = {\n",
    "    'id': 123,\n",
    "    'signup_ts': '2019-06-01 12:22',  \n",
    "    'tastes': {\n",
    "        'wine': 9,\n",
    "        b'cheese': 7,  \n",
    "        'cabbage': '1',  \n",
    "    },\n",
    "}"
   ]
  },
  {
   "cell_type": "code",
   "execution_count": 25,
   "id": "36f111b5",
   "metadata": {},
   "outputs": [],
   "source": [
    "user = User(**external_data) "
   ]
  },
  {
   "cell_type": "code",
   "execution_count": 26,
   "id": "d5439af7",
   "metadata": {},
   "outputs": [
    {
     "data": {
      "text/plain": [
       "{'id': 123,\n",
       " 'name': 'John Doe',\n",
       " 'signup_ts': datetime.datetime(2019, 6, 1, 12, 22),\n",
       " 'tastes': {'wine': 9, 'cheese': 7, 'cabbage': 1}}"
      ]
     },
     "execution_count": 26,
     "metadata": {},
     "output_type": "execute_result"
    }
   ],
   "source": [
    "user.__dict__"
   ]
  },
  {
   "cell_type": "code",
   "execution_count": null,
   "id": "4dc646b0",
   "metadata": {},
   "outputs": [],
   "source": []
  },
  {
   "cell_type": "markdown",
   "id": "e6a9ef94",
   "metadata": {},
   "source": [
    "## 3. 검증처리 "
   ]
  },
  {
   "cell_type": "code",
   "execution_count": 27,
   "id": "ac8a89a5",
   "metadata": {},
   "outputs": [],
   "source": [
    "external_data2 = {'id': 'not an int', 'tastes': {}}  \n"
   ]
  },
  {
   "cell_type": "code",
   "execution_count": 28,
   "id": "7e800eb6",
   "metadata": {},
   "outputs": [
    {
     "name": "stdout",
     "output_type": "stream",
     "text": [
      "[{'type': 'int_parsing', 'loc': ('id',), 'msg': 'Input should be a valid integer, unable to parse string as an integer', 'input': 'not an int', 'url': 'https://errors.pydantic.dev/2.4/v/int_parsing'}, {'type': 'missing', 'loc': ('signup_ts',), 'msg': 'Field required', 'input': {'id': 'not an int', 'tastes': {}}, 'url': 'https://errors.pydantic.dev/2.4/v/missing'}]\n"
     ]
    }
   ],
   "source": [
    "try:\n",
    "    User(**external_data2)  \n",
    "except ValidationError as e:\n",
    "    print(e.errors())"
   ]
  },
  {
   "cell_type": "markdown",
   "id": "f0843d9b",
   "metadata": {},
   "source": [
    "## 특정 필드 검증하기\n",
    "\n",
    "### Validator\n",
    "- 또한 상속된 클래스 내부의 유효성 검사기 데코레이터를 사용하여 고유한 사용자 지정 유효성 검사기를 만들 수 있습니다.\n",
    "\n",
    "- id가 4자리인지 확인하고 Confirm_password가 비밀번호 필드와 일치하는지 확인하는 다음 예를 살펴보겠습니다."
   ]
  },
  {
   "cell_type": "code",
   "execution_count": null,
   "id": "2c5bb5b6",
   "metadata": {},
   "outputs": [],
   "source": []
  },
  {
   "cell_type": "code",
   "execution_count": 35,
   "id": "473e3600",
   "metadata": {},
   "outputs": [],
   "source": [
    "class User2(BaseModel):\n",
    "    id: int\n",
    "    username : str\n",
    "    password : str\n",
    "    confirm_password : str\n",
    "    timestamp: Optional[datetime] = None\n",
    "    friends: List[int] = []\n",
    "    @field_validator('id')\n",
    "    def id_must_be_4_digits(cls, v):\n",
    "        if len(str(v)) != 4:\n",
    "            raise ValueError('must be 4 digits')\n",
    "        return v\n"
   ]
  },
  {
   "cell_type": "code",
   "execution_count": 36,
   "id": "158ad0eb",
   "metadata": {},
   "outputs": [],
   "source": [
    "data2 = {'id': '1234', 'username': 'wai foong', 'password': 'Password123', \n",
    "        'confirm_password': 'Password123', \n",
    "        'timestamp': '2020-08-03 10:30', 'friends': [1, '2', b'3']}"
   ]
  },
  {
   "cell_type": "code",
   "execution_count": 37,
   "id": "750705ae",
   "metadata": {},
   "outputs": [],
   "source": [
    "user2 = User2(**data2)"
   ]
  },
  {
   "cell_type": "code",
   "execution_count": 38,
   "id": "8098ce7a",
   "metadata": {},
   "outputs": [
    {
     "data": {
      "text/plain": [
       "{'id': 1234,\n",
       " 'username': 'wai foong',\n",
       " 'password': 'Password123',\n",
       " 'confirm_password': 'Password123',\n",
       " 'timestamp': datetime.datetime(2020, 8, 3, 10, 30),\n",
       " 'friends': [1, 2, 3]}"
      ]
     },
     "execution_count": 38,
     "metadata": {},
     "output_type": "execute_result"
    }
   ],
   "source": [
    "user2.__dict__"
   ]
  },
  {
   "cell_type": "markdown",
   "id": "e3de411d",
   "metadata": {},
   "source": [
    "### 검증결과 에러 처리 "
   ]
  },
  {
   "cell_type": "code",
   "execution_count": 39,
   "id": "951c6ec8",
   "metadata": {},
   "outputs": [],
   "source": [
    "data3 = {'id': '123456', 'username': 'wai foong', 'password': 'Password123', \n",
    "        'confirm_password': 'Password123', \n",
    "        'timestamp': '2020-08-03 10:30', 'friends': [1, '2', b'3']}"
   ]
  },
  {
   "cell_type": "code",
   "execution_count": 40,
   "id": "289eb04d",
   "metadata": {},
   "outputs": [
    {
     "ename": "ValidationError",
     "evalue": "1 validation error for User2\nid\n  Value error, must be 4 digits [type=value_error, input_value='123456', input_type=str]\n    For further information visit https://errors.pydantic.dev/2.4/v/value_error",
     "output_type": "error",
     "traceback": [
      "\u001b[0;31m---------------------------------------------------------------------------\u001b[0m",
      "\u001b[0;31mValidationError\u001b[0m                           Traceback (most recent call last)",
      "Cell \u001b[0;32mIn[40], line 1\u001b[0m\n\u001b[0;32m----> 1\u001b[0m user3 \u001b[38;5;241m=\u001b[39m \u001b[43mUser2\u001b[49m\u001b[43m(\u001b[49m\u001b[38;5;241;43m*\u001b[39;49m\u001b[38;5;241;43m*\u001b[39;49m\u001b[43mdata3\u001b[49m\u001b[43m)\u001b[49m\n",
      "File \u001b[0;32m~/opt/anaconda3/envs/fluentPython/lib/python3.11/site-packages/pydantic/main.py:164\u001b[0m, in \u001b[0;36mBaseModel.__init__\u001b[0;34m(__pydantic_self__, **data)\u001b[0m\n\u001b[1;32m    162\u001b[0m \u001b[38;5;66;03m# `__tracebackhide__` tells pytest and some other tools to omit this function from tracebacks\u001b[39;00m\n\u001b[1;32m    163\u001b[0m __tracebackhide__ \u001b[38;5;241m=\u001b[39m \u001b[38;5;28;01mTrue\u001b[39;00m\n\u001b[0;32m--> 164\u001b[0m \u001b[43m__pydantic_self__\u001b[49m\u001b[38;5;241;43m.\u001b[39;49m\u001b[43m__pydantic_validator__\u001b[49m\u001b[38;5;241;43m.\u001b[39;49m\u001b[43mvalidate_python\u001b[49m\u001b[43m(\u001b[49m\u001b[43mdata\u001b[49m\u001b[43m,\u001b[49m\u001b[43m \u001b[49m\u001b[43mself_instance\u001b[49m\u001b[38;5;241;43m=\u001b[39;49m\u001b[43m__pydantic_self__\u001b[49m\u001b[43m)\u001b[49m\n",
      "\u001b[0;31mValidationError\u001b[0m: 1 validation error for User2\nid\n  Value error, must be 4 digits [type=value_error, input_value='123456', input_type=str]\n    For further information visit https://errors.pydantic.dev/2.4/v/value_error"
     ]
    }
   ],
   "source": [
    "user3 = User2(**data3)"
   ]
  },
  {
   "cell_type": "code",
   "execution_count": null,
   "id": "99ddd01b",
   "metadata": {},
   "outputs": [],
   "source": []
  },
  {
   "cell_type": "code",
   "execution_count": null,
   "id": "8a87b60d",
   "metadata": {},
   "outputs": [],
   "source": []
  },
  {
   "cell_type": "markdown",
   "id": "490e7442",
   "metadata": {},
   "source": [
    "## 4. 클래스 내의 메서드를 확인하기 "
   ]
  },
  {
   "cell_type": "code",
   "execution_count": 42,
   "id": "b35ffe7f",
   "metadata": {},
   "outputs": [],
   "source": [
    "class User1(BaseModel):\n",
    "    id: int\n",
    "    username : str\n",
    "    password : str\n",
    "    confirm_password : str\n",
    "    timestamp: Optional[datetime] = None\n",
    "    friends: List[int] = []"
   ]
  },
  {
   "cell_type": "code",
   "execution_count": 43,
   "id": "4101dbd8",
   "metadata": {},
   "outputs": [],
   "source": [
    "data = {'id': '1234', 'username': 'wai foong', 'password': 'Password123', \n",
    "        'confirm_password': 'Password123', \n",
    "        'timestamp': '2020-08-03 10:30', 'friends': [1, '2', b'3']}"
   ]
  },
  {
   "cell_type": "code",
   "execution_count": 44,
   "id": "742f14ed",
   "metadata": {},
   "outputs": [],
   "source": [
    "user = User1(**data)"
   ]
  },
  {
   "cell_type": "code",
   "execution_count": null,
   "id": "2364806d",
   "metadata": {},
   "outputs": [],
   "source": []
  },
  {
   "cell_type": "markdown",
   "id": "92dadadd",
   "metadata": {},
   "source": [
    "### 객체 내의 값 확인하기 "
   ]
  },
  {
   "cell_type": "code",
   "execution_count": 45,
   "id": "ee80d21f",
   "metadata": {},
   "outputs": [
    {
     "data": {
      "text/plain": [
       "{'id': 1234,\n",
       " 'username': 'wai foong',\n",
       " 'password': 'Password123',\n",
       " 'confirm_password': 'Password123',\n",
       " 'timestamp': datetime.datetime(2020, 8, 3, 10, 30),\n",
       " 'friends': [1, 2, 3]}"
      ]
     },
     "execution_count": 45,
     "metadata": {},
     "output_type": "execute_result"
    }
   ],
   "source": [
    "user.__dict__"
   ]
  },
  {
   "cell_type": "code",
   "execution_count": 46,
   "id": "3e3b075b",
   "metadata": {},
   "outputs": [
    {
     "name": "stderr",
     "output_type": "stream",
     "text": [
      "/var/folders/h4/44486vyn1_xbs13g1z50l5m00000gn/T/ipykernel_74362/336500289.py:1: PydanticDeprecatedSince20: The `dict` method is deprecated; use `model_dump` instead. Deprecated in Pydantic V2.0 to be removed in V3.0. See Pydantic V2 Migration Guide at https://errors.pydantic.dev/2.4/migration/\n",
      "  user.dict()\n"
     ]
    },
    {
     "data": {
      "text/plain": [
       "{'id': 1234,\n",
       " 'username': 'wai foong',\n",
       " 'password': 'Password123',\n",
       " 'confirm_password': 'Password123',\n",
       " 'timestamp': datetime.datetime(2020, 8, 3, 10, 30),\n",
       " 'friends': [1, 2, 3]}"
      ]
     },
     "execution_count": 46,
     "metadata": {},
     "output_type": "execute_result"
    }
   ],
   "source": [
    "user.dict()"
   ]
  },
  {
   "cell_type": "code",
   "execution_count": 52,
   "id": "4bc473f7",
   "metadata": {},
   "outputs": [
    {
     "data": {
      "text/plain": [
       "{'id': 1234,\n",
       " 'username': 'wai foong',\n",
       " 'password': 'Password123',\n",
       " 'confirm_password': 'Password123',\n",
       " 'timestamp': datetime.datetime(2020, 8, 3, 10, 30),\n",
       " 'friends': [1, 2, 3]}"
      ]
     },
     "execution_count": 52,
     "metadata": {},
     "output_type": "execute_result"
    }
   ],
   "source": [
    "user.model_dump()"
   ]
  },
  {
   "cell_type": "markdown",
   "id": "4f1badf6",
   "metadata": {},
   "source": [
    "### json으로 확인하기 "
   ]
  },
  {
   "cell_type": "code",
   "execution_count": 47,
   "id": "c6d22aa4",
   "metadata": {},
   "outputs": [
    {
     "name": "stderr",
     "output_type": "stream",
     "text": [
      "/var/folders/h4/44486vyn1_xbs13g1z50l5m00000gn/T/ipykernel_74362/3609156729.py:1: PydanticDeprecatedSince20: The `json` method is deprecated; use `model_dump_json` instead. Deprecated in Pydantic V2.0 to be removed in V3.0. See Pydantic V2 Migration Guide at https://errors.pydantic.dev/2.4/migration/\n",
      "  user.json()\n"
     ]
    },
    {
     "data": {
      "text/plain": [
       "'{\"id\":1234,\"username\":\"wai foong\",\"password\":\"Password123\",\"confirm_password\":\"Password123\",\"timestamp\":\"2020-08-03T10:30:00\",\"friends\":[1,2,3]}'"
      ]
     },
     "execution_count": 47,
     "metadata": {},
     "output_type": "execute_result"
    }
   ],
   "source": [
    "user.json()"
   ]
  },
  {
   "cell_type": "code",
   "execution_count": 51,
   "id": "5b4cf4cf",
   "metadata": {},
   "outputs": [
    {
     "data": {
      "text/plain": [
       "'{\"id\":1234,\"username\":\"wai foong\",\"password\":\"Password123\",\"confirm_password\":\"Password123\",\"timestamp\":\"2020-08-03T10:30:00\",\"friends\":[1,2,3]}'"
      ]
     },
     "execution_count": 51,
     "metadata": {},
     "output_type": "execute_result"
    }
   ],
   "source": [
    "user.model_dump_json()"
   ]
  },
  {
   "cell_type": "markdown",
   "id": "d9f1328d",
   "metadata": {},
   "source": [
    "### 데이터의 스키마 정보 확인하기 "
   ]
  },
  {
   "cell_type": "code",
   "execution_count": 48,
   "id": "e25706c4",
   "metadata": {},
   "outputs": [
    {
     "name": "stderr",
     "output_type": "stream",
     "text": [
      "/var/folders/h4/44486vyn1_xbs13g1z50l5m00000gn/T/ipykernel_74362/2470975238.py:1: PydanticDeprecatedSince20: The `schema` method is deprecated; use `model_json_schema` instead. Deprecated in Pydantic V2.0 to be removed in V3.0. See Pydantic V2 Migration Guide at https://errors.pydantic.dev/2.4/migration/\n",
      "  user.schema()\n"
     ]
    },
    {
     "data": {
      "text/plain": [
       "{'properties': {'id': {'title': 'Id', 'type': 'integer'},\n",
       "  'username': {'title': 'Username', 'type': 'string'},\n",
       "  'password': {'title': 'Password', 'type': 'string'},\n",
       "  'confirm_password': {'title': 'Confirm Password', 'type': 'string'},\n",
       "  'timestamp': {'anyOf': [{'format': 'date-time', 'type': 'string'},\n",
       "    {'type': 'null'}],\n",
       "   'default': None,\n",
       "   'title': 'Timestamp'},\n",
       "  'friends': {'default': [],\n",
       "   'items': {'type': 'integer'},\n",
       "   'title': 'Friends',\n",
       "   'type': 'array'}},\n",
       " 'required': ['id', 'username', 'password', 'confirm_password'],\n",
       " 'title': 'User1',\n",
       " 'type': 'object'}"
      ]
     },
     "execution_count": 48,
     "metadata": {},
     "output_type": "execute_result"
    }
   ],
   "source": [
    "user.schema()"
   ]
  },
  {
   "cell_type": "code",
   "execution_count": null,
   "id": "967eb6a5",
   "metadata": {},
   "outputs": [],
   "source": []
  },
  {
   "cell_type": "code",
   "execution_count": 49,
   "id": "357cce99",
   "metadata": {},
   "outputs": [
    {
     "name": "stderr",
     "output_type": "stream",
     "text": [
      "/var/folders/h4/44486vyn1_xbs13g1z50l5m00000gn/T/ipykernel_74362/59920019.py:1: PydanticDeprecatedSince20: The `schema_json` method is deprecated; use `model_json_schema` and json.dumps instead. Deprecated in Pydantic V2.0 to be removed in V3.0. See Pydantic V2 Migration Guide at https://errors.pydantic.dev/2.4/migration/\n",
      "  user.schema_json()\n"
     ]
    },
    {
     "data": {
      "text/plain": [
       "'{\"properties\": {\"id\": {\"title\": \"Id\", \"type\": \"integer\"}, \"username\": {\"title\": \"Username\", \"type\": \"string\"}, \"password\": {\"title\": \"Password\", \"type\": \"string\"}, \"confirm_password\": {\"title\": \"Confirm Password\", \"type\": \"string\"}, \"timestamp\": {\"anyOf\": [{\"format\": \"date-time\", \"type\": \"string\"}, {\"type\": \"null\"}], \"default\": null, \"title\": \"Timestamp\"}, \"friends\": {\"default\": [], \"items\": {\"type\": \"integer\"}, \"title\": \"Friends\", \"type\": \"array\"}}, \"required\": [\"id\", \"username\", \"password\", \"confirm_password\"], \"title\": \"User1\", \"type\": \"object\"}'"
      ]
     },
     "execution_count": 49,
     "metadata": {},
     "output_type": "execute_result"
    }
   ],
   "source": [
    "user.schema_json()"
   ]
  },
  {
   "cell_type": "code",
   "execution_count": null,
   "id": "20c7278f",
   "metadata": {},
   "outputs": [],
   "source": []
  },
  {
   "cell_type": "code",
   "execution_count": 50,
   "id": "2d89824c",
   "metadata": {},
   "outputs": [
    {
     "data": {
      "text/plain": [
       "{'properties': {'id': {'title': 'Id', 'type': 'integer'},\n",
       "  'username': {'title': 'Username', 'type': 'string'},\n",
       "  'password': {'title': 'Password', 'type': 'string'},\n",
       "  'confirm_password': {'title': 'Confirm Password', 'type': 'string'},\n",
       "  'timestamp': {'anyOf': [{'format': 'date-time', 'type': 'string'},\n",
       "    {'type': 'null'}],\n",
       "   'default': None,\n",
       "   'title': 'Timestamp'},\n",
       "  'friends': {'default': [],\n",
       "   'items': {'type': 'integer'},\n",
       "   'title': 'Friends',\n",
       "   'type': 'array'}},\n",
       " 'required': ['id', 'username', 'password', 'confirm_password'],\n",
       " 'title': 'User1',\n",
       " 'type': 'object'}"
      ]
     },
     "execution_count": 50,
     "metadata": {},
     "output_type": "execute_result"
    }
   ],
   "source": [
    "user.model_json_schema()"
   ]
  },
  {
   "cell_type": "markdown",
   "id": "ec87a0f1",
   "metadata": {},
   "source": [
    "## 5. 타입 처리하기 "
   ]
  },
  {
   "cell_type": "markdown",
   "id": "090d3374",
   "metadata": {},
   "source": [
    "## Constrained types\n",
    "\n",
    "- Constrained Type을 통해 자신의 제한을 적용할 수 있습니다"
   ]
  },
  {
   "cell_type": "code",
   "execution_count": 53,
   "id": "db862a39",
   "metadata": {},
   "outputs": [],
   "source": [
    "from pydantic import (\n",
    "    BaseModel,\n",
    "    NegativeInt,\n",
    "    PositiveInt,\n",
    "    conint,\n",
    "    conlist,\n",
    "    constr\n",
    ")\n"
   ]
  },
  {
   "cell_type": "code",
   "execution_count": null,
   "id": "c4bce3e0",
   "metadata": {},
   "outputs": [],
   "source": []
  },
  {
   "cell_type": "code",
   "execution_count": 56,
   "id": "59c7a20b",
   "metadata": {},
   "outputs": [],
   "source": [
    "\n",
    "class Model(BaseModel):\n",
    "    # minimum length of 2 and maximum length of 10\n",
    "    short_str: constr(min_length=2, max_length=10)\n",
    "\n",
    "    # remove whitespace from string\n",
    "    strip_str: constr(strip_whitespace=True)\n",
    "\n",
    "    # value must be greater than 1000 and less than 1024\n",
    "    big_int: conint(gt=1000, lt=1024)\n",
    "    \n",
    "    # value is multiple of 5\n",
    "    mod_int: conint(multiple_of=5)\n",
    "    \n",
    "    # must be a positive integer\n",
    "    pos_int: PositiveInt\n",
    "    \n",
    "    # must be a negative integer\n",
    "    neg_int: NegativeInt\n",
    "\n",
    "    # list of integers that contains 1 to 4 items\n",
    "    short_list: conlist(int)"
   ]
  },
  {
   "cell_type": "code",
   "execution_count": null,
   "id": "5704c5c2",
   "metadata": {},
   "outputs": [],
   "source": []
  },
  {
   "cell_type": "markdown",
   "id": "c1cff74a",
   "metadata": {},
   "source": [
    "## Strict types\n",
    "\n",
    "- 검증된 값이 해당 유형이거나 해당 유형의 하위 유형인 경우에만 유효성 검사를 통과하는 엄격한 제한을 찾고 있다면 다음과 같은 엄격한 유형을 사용할 수 있습니다.\n",
    "\n",
    "- StrictStr\n",
    "- StrictInt\n",
    "- StrictFloat\n",
    "- StrictBool"
   ]
  },
  {
   "cell_type": "code",
   "execution_count": 57,
   "id": "60afcf5b",
   "metadata": {},
   "outputs": [],
   "source": [
    "from pydantic import BaseModel, StrictBool"
   ]
  },
  {
   "cell_type": "code",
   "execution_count": 58,
   "id": "067bf4c5",
   "metadata": {},
   "outputs": [],
   "source": [
    "class StrictBoolModel(BaseModel):\n",
    "    strict_bool: StrictBool"
   ]
  },
  {
   "cell_type": "code",
   "execution_count": null,
   "id": "9f2db34f",
   "metadata": {},
   "outputs": [],
   "source": []
  }
 ],
 "metadata": {
  "kernelspec": {
   "display_name": "Python 3 (ipykernel)",
   "language": "python",
   "name": "python3"
  },
  "language_info": {
   "codemirror_mode": {
    "name": "ipython",
    "version": 3
   },
   "file_extension": ".py",
   "mimetype": "text/x-python",
   "name": "python",
   "nbconvert_exporter": "python",
   "pygments_lexer": "ipython3",
   "version": "3.11.3"
  }
 },
 "nbformat": 4,
 "nbformat_minor": 5
}
