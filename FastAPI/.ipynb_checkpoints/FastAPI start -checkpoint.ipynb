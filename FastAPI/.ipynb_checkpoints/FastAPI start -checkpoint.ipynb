{
 "cells": [
  {
   "cell_type": "code",
   "execution_count": null,
   "id": "6804504c",
   "metadata": {},
   "outputs": [],
   "source": []
  },
  {
   "cell_type": "markdown",
   "id": "be438df8",
   "metadata": {},
   "source": [
    "## 구동하기 \n",
    "\n",
    "### 일반적인 구동\n",
    "uvicorn main:app --host 0.0.0.0 --port 80\n",
    "\n",
    "### 리로딩처리 \n",
    "uvicorn main:app  --reload\n",
    "\n",
    "INFO:     Uvicorn running on http://0.0.0.0:80 (Press CTRL+C to quit"
   ]
  },
  {
   "cell_type": "code",
   "execution_count": null,
   "id": "273622f7",
   "metadata": {},
   "outputs": [],
   "source": []
  },
  {
   "cell_type": "markdown",
   "id": "13db2003",
   "metadata": {},
   "source": [
    "##  프로세스 찾기\n",
    "\n",
    "ps -ef | grep uvicorn"
   ]
  },
  {
   "cell_type": "code",
   "execution_count": null,
   "id": "89c16a55",
   "metadata": {},
   "outputs": [],
   "source": []
  }
 ],
 "metadata": {
  "kernelspec": {
   "display_name": "Python 3 (ipykernel)",
   "language": "python",
   "name": "python3"
  },
  "language_info": {
   "codemirror_mode": {
    "name": "ipython",
    "version": 3
   },
   "file_extension": ".py",
   "mimetype": "text/x-python",
   "name": "python",
   "nbconvert_exporter": "python",
   "pygments_lexer": "ipython3",
   "version": "3.11.3"
  }
 },
 "nbformat": 4,
 "nbformat_minor": 5
}
