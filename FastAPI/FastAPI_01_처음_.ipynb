{
 "cells": [
  {
   "cell_type": "code",
   "execution_count": 9,
   "id": "9f5e4569",
   "metadata": {},
   "outputs": [
    {
     "name": "stdout",
     "output_type": "stream",
     "text": [
      "Overwriting ./Web/api.py\n"
     ]
    }
   ],
   "source": [
    "%%writefile ./Web/api.py\n",
    "\n",
    "from fastapi  import FastAPI\n",
    "from todo import todo_router\n",
    "\n",
    "app = FastAPI()\n",
    "\n",
    "@app.get(\"/\")\n",
    "async def welcome() -> dict :\n",
    "    return { \"message\" : \"Hello World\",\n",
    "             \"message1\" : \"그러니까\"}\n",
    "\n",
    "app.include_router(todo_router)"
   ]
  },
  {
   "cell_type": "code",
   "execution_count": null,
   "id": "61dee52c",
   "metadata": {},
   "outputs": [],
   "source": []
  },
  {
   "cell_type": "code",
   "execution_count": null,
   "id": "d0418f33",
   "metadata": {},
   "outputs": [],
   "source": []
  },
  {
   "cell_type": "code",
   "execution_count": 6,
   "id": "b97038c0",
   "metadata": {},
   "outputs": [
    {
     "name": "stdout",
     "output_type": "stream",
     "text": [
      "Writing ./Web/todo.py\n"
     ]
    }
   ],
   "source": [
    "%%writefile ./Web/todo.py\n",
    "\n",
    "from fastapi  import APIRouter\n",
    "\n",
    "todo_router = APIRouter()\n",
    "\n",
    "todo_list = []\n",
    "\n",
    "@todo_router.post(\"/todo\")\n",
    "async def add_todo(todo:dict) -> dict :\n",
    "    todo_list.append(todo)\n",
    "    return { \"message\" : \"Todo added successfully.\"}\n",
    "\n",
    "@todo_router.get(\"/todo\")\n",
    "async def retrieve_todo() -> dict :\n",
    "    return { \"todos\" : todo_list}"
   ]
  },
  {
   "cell_type": "code",
   "execution_count": null,
   "id": "2982efc3",
   "metadata": {},
   "outputs": [],
   "source": []
  }
 ],
 "metadata": {
  "kernelspec": {
   "display_name": "Python 3 (ipykernel)",
   "language": "python",
   "name": "python3"
  },
  "language_info": {
   "codemirror_mode": {
    "name": "ipython",
    "version": 3
   },
   "file_extension": ".py",
   "mimetype": "text/x-python",
   "name": "python",
   "nbconvert_exporter": "python",
   "pygments_lexer": "ipython3",
   "version": "3.11.3"
  }
 },
 "nbformat": 4,
 "nbformat_minor": 5
}
