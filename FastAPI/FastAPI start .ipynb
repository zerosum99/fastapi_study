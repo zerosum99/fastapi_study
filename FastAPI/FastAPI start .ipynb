{
 "cells": [
  {
   "cell_type": "code",
   "execution_count": null,
   "id": "6804504c",
   "metadata": {},
   "outputs": [],
   "source": []
  },
  {
   "cell_type": "markdown",
   "id": "be438df8",
   "metadata": {},
   "source": [
    "## 구동하기 \n",
    "\n",
    "### 일반적인 구동\n",
    "\n",
    "--> /Documents/GitHub/fastapi_study/app/ 로 이동하고 \n",
    "uvicorn main:app --host 0.0.0.0 --port 80\n",
    "\n",
    "### 리로딩처리 \n",
    "uvicorn main:app  --reload\n",
    "\n",
    "INFO:     Uvicorn running on http://0.0.0.0:80 (Press CTRL+C to quit"
   ]
  },
  {
   "cell_type": "code",
   "execution_count": 7,
   "id": "273622f7",
   "metadata": {},
   "outputs": [
    {
     "data": {
      "text/plain": [
       "'/Users/a06411/Documents/GitHub/fastapi_study/src/app'"
      ]
     },
     "execution_count": 7,
     "metadata": {},
     "output_type": "execute_result"
    }
   ],
   "source": [
    "%pwd"
   ]
  },
  {
   "cell_type": "markdown",
   "id": "3c33cb6b-c697-4e6a-8acb-d3396b5a80f3",
   "metadata": {},
   "source": [
    "###\n",
    "- %cd app"
   ]
  },
  {
   "cell_type": "code",
   "execution_count": 9,
   "id": "2ee531aa-d5ff-43a4-9326-96cc2e8c44c1",
   "metadata": {},
   "outputs": [
    {
     "data": {
      "text/plain": [
       "'/Users/a06411/Documents/GitHub/fastapi_study/src/app'"
      ]
     },
     "execution_count": 9,
     "metadata": {},
     "output_type": "execute_result"
    }
   ],
   "source": [
    "%pwd"
   ]
  },
  {
   "cell_type": "code",
   "execution_count": 10,
   "id": "63d77553-91fa-44f3-8e6a-877eb92d9405",
   "metadata": {},
   "outputs": [
    {
     "name": "stdout",
     "output_type": "stream",
     "text": [
      "__init__.py      dependencies.py  main.py\n",
      "\u001b[34m__pycache__\u001b[m\u001b[m/     \u001b[34minternal\u001b[m\u001b[m/        \u001b[34mrouters\u001b[m\u001b[m/\n"
     ]
    }
   ],
   "source": [
    "%ls"
   ]
  },
  {
   "cell_type": "markdown",
   "id": "13f2618a-48cf-4c68-8b97-fba811ffa883",
   "metadata": {},
   "source": [
    "## 중달할 때는 메뉴만의 정지를 누르세요 "
   ]
  },
  {
   "cell_type": "code",
   "execution_count": 11,
   "id": "7754d930-2d10-4293-b6dc-fda69f4c08a0",
   "metadata": {},
   "outputs": [
    {
     "name": "stdout",
     "output_type": "stream",
     "text": [
      "\u001b[32mINFO\u001b[0m:     Started server process [\u001b[36m67679\u001b[0m]\n",
      "\u001b[32mINFO\u001b[0m:     Waiting for application startup.\n",
      "\u001b[32mINFO\u001b[0m:     Application startup complete.\n",
      "\u001b[32mINFO\u001b[0m:     Uvicorn running on \u001b[1mhttp://0.0.0.0:80\u001b[0m (Press CTRL+C to quit)\n",
      "\u001b[32mINFO\u001b[0m:     127.0.0.1:55526 - \"\u001b[1mGET / HTTP/1.1\u001b[0m\" \u001b[32m200 OK\u001b[0m\n",
      "^C\n",
      "\u001b[32mINFO\u001b[0m:     Shutting down\n",
      "\u001b[32mINFO\u001b[0m:     Waiting for application shutdown.\n",
      "\u001b[32mINFO\u001b[0m:     Application shutdown complete.\n",
      "\u001b[32mINFO\u001b[0m:     Finished server process [\u001b[36m67679\u001b[0m]\n",
      "\n",
      "Aborted!\n"
     ]
    }
   ],
   "source": [
    "!uvicorn main:app --host 0.0.0.0 --port 80"
   ]
  },
  {
   "cell_type": "markdown",
   "id": "13db2003",
   "metadata": {},
   "source": [
    "##  프로세스 찾기\n",
    "\n",
    "ps -ef | grep uvicorn"
   ]
  },
  {
   "cell_type": "code",
   "execution_count": null,
   "id": "89c16a55",
   "metadata": {},
   "outputs": [],
   "source": []
  }
 ],
 "metadata": {
  "kernelspec": {
   "display_name": "Python 3 (ipykernel)",
   "language": "python",
   "name": "python3"
  },
  "language_info": {
   "codemirror_mode": {
    "name": "ipython",
    "version": 3
   },
   "file_extension": ".py",
   "mimetype": "text/x-python",
   "name": "python",
   "nbconvert_exporter": "python",
   "pygments_lexer": "ipython3",
   "version": "3.12.4"
  }
 },
 "nbformat": 4,
 "nbformat_minor": 5
}
